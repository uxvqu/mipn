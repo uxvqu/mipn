{
 "cells": [
  {
   "cell_type": "markdown",
   "metadata": {},
   "source": [
    "  <style>\n",
    "    .container {\n",
    "      display: flex;\n",
    "      justify-content: space-between;\n",
    "      align-items: center;\n",
    "    }\n",
    "\n",
    "    .text {\n",
    "      width: 95%;\n",
    "       text-align: center;\n",
    "    }\n",
    "\n",
    "    .image {\n",
    "      width: 5%;\n",
    "      text-align: center; \n",
    "    }\n",
    "\n",
    "    \n",
    "    .image img {\n",
    "      max-width: 100%;\n",
    "      height: auto;\n",
    "    }\n",
    "  </style> \n",
    "  \n",
    "  <div class=\"container\">\n",
    "    <div class=\"image\">\n",
    "      <img src=\"https://upload.wikimedia.org/wikipedia/commons/thumb/3/3a/Logo_KIT.svg/1200px-Logo_KIT.svg.png\" width=100 height=50/>\n",
    "    </div>\n",
    "        <div class=\"text\">\n",
    "      <h1> Medical Image Processing and Navigation 2024/25</h1>\n",
    "    </div>\n",
    "  </div>\n",
    "\n",
    "---\n",
    "\n",
    "<center>\n",
    "<h2>Git</h2> \n",
    "<img src=\"https://upload.wikimedia.org/wikipedia/commons/thumb/e/e0/Git-logo.svg/1280px-Git-logo.svg.png\" width=200 height=100/>\n",
    "\n",
    "\n",
    "---\n",
    "\n",
    "<center>\n",
    "Lecturer: <b><i>Ciro Benito Raggio</i></b> \n",
    "<br/>\n",
    "<a><href>https://www.ibt.kit.edu/english/Raggio_C.php</href></a>"
   ]
  },
  {
   "cell_type": "markdown",
   "metadata": {},
   "source": [
    "# What is Git in three points?"
   ]
  },
  {
   "cell_type": "markdown",
   "metadata": {},
   "source": [
    "1. Git is a **free** and **open source** distributed **version control system** designed to handle everything, from small to very large projects, with speed and efficiency.\n",
    "\n",
    "2. Git is the best choice for most software teams today. It has the functionality, performance, security and flexibility that most teams and individual developers need.\n",
    "\n",
    "3. If used well, the history of a Git repository is like the index of a book."
   ]
  },
  {
   "cell_type": "markdown",
   "metadata": {},
   "source": [
    "# Why is it useful?"
   ]
  },
  {
   "cell_type": "markdown",
   "metadata": {},
   "source": [
    "<h5> How many times has this happened to you? </h5>\n",
    "\n",
    "\n",
    "<center><img src=\"./assets/GitLecture/badversioning.png\">\n"
   ]
  },
  {
   "cell_type": "markdown",
   "metadata": {},
   "source": [
    "### ***Collaborative Work***\n",
    "Initially, ***cooperation poses a significant challenge when individuals aim to discuss a software product***. As understood, a project involves a collective effort, with each member potentially configuring distinct features for the code. A version control system serves as a valuable tool for developers to systematically monitor all modifications made to the source code. Alongside managing changes, it meticulously records the authorship of alterations, providing transparency on who made what changes and when.\n",
    "\n",
    "### ***Version Management***\n",
    "Concluding a project with one version is impossible! A version control system facilitates the organization of multiple iterations of a project, maintaining order in the source code. It permits the establishment of ***a new branch for every developer implementing alterations in the code***, ensure that these changes are vetted (reviewed and approved) by other developers before being merged into the original code.\n",
    "\n",
    "Upon obtaining approval from fellow contributors, the new code seamlessly integrates with the main source, becoming the latest project version. This approach enables individuals to work on a duplicate of the project, allowing them to make edits without impacting the efforts of others. ***They can commit changes when the task is completed***. Consequently, it amplifies productivity, augments team efficiency, and minimizes the potential for errors and conflicts."
   ]
  },
  {
   "cell_type": "markdown",
   "metadata": {},
   "source": [
    "# How to use it?\n",
    "Before we start working with Git commands, it is necessary that you understand what it represents."
   ]
  },
  {
   "cell_type": "markdown",
   "metadata": {},
   "source": [
    "## What is a Repository ? \n",
    "A repository is basically a special folder that tracks changes, building a history over time. ***The .git/ folder in our local repository contains our project’s history.***"
   ]
  },
  {
   "cell_type": "markdown",
   "metadata": {},
   "source": [
    "## Install Git\n",
    "- Linux (Ubuntu/Debian): `sudo apt update && sudo apt install git`\n",
    "- Linux (CentOS): `sudo dnf install git`\n",
    "- Linux (Fedora): `sudo yum install git`\n",
    "- Windows (classic): go to the [Git website](https://git-scm.com/download/win), download the .exe package and install it\n",
    "- Windows (with WSL): `sudo apt update && sudo apt install git`\n",
    "- MacOS: `brew install git`"
   ]
  },
  {
   "cell_type": "markdown",
   "metadata": {},
   "source": [
    "## Create a repository locally and then push it remotely"
   ]
  },
  {
   "cell_type": "markdown",
   "metadata": {},
   "source": [
    "The operation that allows us to create an empty Git repository is: `git init`.\n",
    "\n",
    "Let's see an example in which:\n",
    "1. move to a specific folder\n",
    "\n",
    "2. ask Git to initialize a repository\n",
    "\n",
    "3. create a README.md file   \n",
    "\n",
    "<center><img src=\"https://cdn-media-1.freecodecamp.org/images/1*Q_DUXRghgFQb9F47mUB6LQ.gif\"></img>\n",
    "\n",
    "[ref](https://www.freecodecamp.org/news/learn-the-basics-of-git-in-under-10-minutes-da548267cc91/)\n",
    "\n"
   ]
  },
  {
   "cell_type": "markdown",
   "metadata": {},
   "source": [
    "### Status of a file\n",
    "\n",
    "The next step might be to move the repository with the added file remotely!\n",
    "\n",
    "Before we do that, let's take a look at the flow to follow:\n",
    "\n",
    "<center> <img src=\"https://pbs.twimg.com/media/GEYQHS8aYAAI2Dk.jpg:large\" width=650 height=600 /> "
   ]
  },
  {
   "cell_type": "markdown",
   "metadata": {},
   "source": [
    "### Consider a file within our working directory, and **it can exist in three distinct states**. \n",
    "\n",
    "1. **Modified state:** In this state, the files with updated changes have not been stored in the local repository. These ***changes are still in the working directory and have not been officially recorded.***\n",
    "\n",
    "2. **Staged state:** This implies that the files containing the latest modifications are flagged to be committed to the local repository but have not been committed yet. ***They are in a pre-commit stage.***\n",
    "\n",
    "3. **Committed state:** When a file is committed, it means that the alterations made to the file are securely stored in the local repository. ***The changes are now part of the project's history.***\n",
    "\n",
    "\n",
    "### The Git commands that allow us to implement this flow\n",
    "\n",
    "- ***git add:***  This command is utilized to include a file from the working directory to the staging area. It prepares the file for the upcoming commit.\n",
    "\n",
    "- ***git commit:***  This command adds all staged files to the local repository. It captures the current state of the project, creating a snapshot in the version history.\n",
    "\n",
    "- ***git push:***  This command adds all committed files from the local repository to the remote repository. It ensures that all changes are visible to those with access to the remote repository.\n",
    "\n",
    "- ***git fetch:***  Used to retrieve files from the remote repository to the local repository, excluding the working directory. It updates the local repository with changes from the remote but keeps the working directory unchanged.\n",
    "\n",
    "- ***git merge:***  This command brings files from the local repository into the working directory. It merges changes into the current working branch.\n",
    "\n",
    "- ***git pull:***  A combination of git fetch and git merge, it retrieves files from the remote repository directly into the working directory. It updates the local repository and working directory simultaneously. Essentially, it's a convenient way to synchronize changes from the remote repository to our local environment.\n",
    "\n",
    "[Reference](https://www.freecodecamp.org/news/learn-the-basics-of-git-in-under-10-minutes-da548267cc91/)"
   ]
  },
  {
   "cell_type": "markdown",
   "metadata": {},
   "source": [
    "### So, what do we do to commit this README.md file to our local repository?\n",
    "\n",
    "1. **Add the file to file to the repository's staging area.** This prepares the file for the commit.\n",
    "    \n",
    "    `git add README.md`\n",
    "\n",
    "2. **Commit the changes**\n",
    "\n",
    "    Then, use the commit command to commit the file to the local repository. \n",
    "    \n",
    "    <h3>⚠️ ATTENTION ⚠️</h3>\n",
    "    \n",
    "    <b> You should always add a message describing what changes have been made to the files. Generally the message must be concise and explanatory, in this way, the history of our repository will be very clear and we will not have to investigate every commit.</b>\n",
    "\n",
    "    `git commit -m \"First commit: added README.md file\"`\n",
    "\n",
    "3. **Configure the remote repository**\n",
    "\n",
    "    At this point, we've added our changes to the local repository and are ready to publish our new repository remotely, so we need to add a source to our local repository (this is only done once, unless you want to update the source). \n",
    "    \n",
    "    ⚠️ Before doing this, we should make sure we have created a remote repository (we will see how to do this easily in the next steps)\n",
    "    \n",
    "    `git remote add origin <URL_of_our_remote_repository.git>`\n",
    "\n",
    "4. **Push to the remote repository**\n",
    "\n",
    "    Pretending we added our remote repository, we can push our commit to the remote repository:\n",
    "\n",
    "    `git push -u origin master`\n"
   ]
  },
  {
   "cell_type": "markdown",
   "metadata": {},
   "source": [
    "# Create and manage remote repository: GitHub vs GitLab"
   ]
  },
  {
   "cell_type": "markdown",
   "metadata": {},
   "source": [
    "\n",
    "<center><img src=\"https://atlacademy.az/images/cache/2a/2ae875_Screen-Shot-2020-12-21-at-12.56.03_crop_1094x655.png\" width=900 height=500/>"
   ]
  },
  {
   "cell_type": "markdown",
   "metadata": {},
   "source": [
    "***GitHub*** and ***GitLab*** are separate web-based Git repositories. \n",
    "\n",
    "Although commonly confused, they are owned and operated by different companies: GitHub by Microsoft and GitLab by its eponymous organization. \n",
    "\n",
    "They are each spaces for developers to work on Git projects, collaborate, and share and test their work.\n",
    "\n",
    "**What do these services offer?**\n",
    "- cloud-based storage\n",
    "- issue trackers that allow to resolve several problems simultaneously\n",
    "- free and paid plans available\n",
    "- extensive third-party integrations\n",
    "- open-source code and projects\n",
    "- project management and other tools for developers\n",
    "\n",
    "GitHub and GitLab sharing some similarities, but they diverge significantly in their underlying philosophies.\n",
    "\n",
    "GitHub, being the elder of the two, adopts a distinctive approach, prioritizing the cultivation of a robust community and placing a strong emphasis on collaboration. Despite offering numerous integrations and add-ons, GitHub leans towards a more do-it-yourself (DIY) model. On the other hand, GitLab distinguishes itself by incorporating extensive DevOps and continuous integration/continuous delivery (CI/CD) features directly into the repository. Although lately GitHub has integrated tools for CI/CD.\n",
    "\n",
    "\n",
    "Originally conceived as an alternative to GitHub, GitLab has evolved over time, continually expanding its range of plans and features. GitLab strives for reliability and comprehensiveness, positioning itself as an all-encompassing platform. In contrast, GitHub, with its longer history, places a greater emphasis on performance and fostering collaborative teamwork."
   ]
  },
  {
   "cell_type": "markdown",
   "metadata": {},
   "source": [
    "### Let's create our remote repository!"
   ]
  },
  {
   "cell_type": "markdown",
   "metadata": {},
   "source": [
    "1. Let's create an account on [GitHub](github.com)\n",
    "2. Click on your profile picture (top-right) and select *\"Your repositories\"*\n",
    "3. Click on *\"New\"*\n",
    "4. Fill in the required fields, choose whether to include a \"README.md\" file, choose a license type and create the repository.\n",
    "\n",
    "    <center><img src=\"./assets/GitLecture/new_repo_step1.png\"/>"
   ]
  },
  {
   "cell_type": "markdown",
   "metadata": {},
   "source": [
    "### Now we have the remote repository, so we can connect our local repository!\n",
    "\n",
    "<center><img src=\"./assets/GitLecture/add_origin.png\"/>"
   ]
  },
  {
   "cell_type": "markdown",
   "metadata": {},
   "source": [
    "After connecting our local repository to the remote one, we can proceed with the **push into the master branch**: `git push -u origin master`"
   ]
  },
  {
   "cell_type": "markdown",
   "metadata": {},
   "source": [
    "Here's what our repository looks like after doing the first push:\n",
    "\n",
    "<center> <img src=\"./assets/GitLecture/new_repo_step2.png\" />"
   ]
  },
  {
   "cell_type": "markdown",
   "metadata": {},
   "source": [
    "## Let's finish the deal!"
   ]
  },
  {
   "cell_type": "markdown",
   "metadata": {},
   "source": [
    "Let's make a local edit to our README.md file and push it remotely."
   ]
  },
  {
   "cell_type": "markdown",
   "metadata": {},
   "source": [
    "<style>\n",
    "body {\n",
    "            font-family: 'Courier New', monospace;\n",
    "    }\n",
    "\n",
    "pre {\n",
    "            background-color: black;\n",
    "            padding: 10px;\n",
    "            border-radius: 5px;\n",
    "            overflow-x: auto;\n",
    "    }\n",
    "\n",
    "code {\n",
    "            color: lime;\n",
    "            background-color: black;\n",
    "            padding: 2px 4px;\n",
    "            border-radius: 3px;\n",
    "    }\n",
    "\n",
    "bashcomm {\n",
    "            color: aqua;\n",
    "            background-color: black;\n",
    "            padding: 2px 4px;\n",
    "            border-radius: 3px;\n",
    "    }\n",
    "</style>\n",
    "\n",
    "<bashcomm> ~$ cat README.md</bashcomm>\n",
    "\n",
    "<pre>\n",
    "<code>\n",
    "    Check our first commit!\n",
    "</code>\n",
    "</pre>\n",
    "\n",
    "<bashcomm> ~$ git status</bashcomm>\n",
    "\n",
    "<pre>\n",
    "<code>\n",
    "    Your branch is updated with respect to 'origin/master'.\n",
    "    Changes not in staging area for commit:\n",
    "    (use \"git add < file >...\" to update the items that will be committed)\n",
    "    (use \"git restore < file >...\" to discard changes to the working directory)\n",
    "    modified: README.md\n",
    "    no changes added to commit (use \"git add\" and/or \"git commit -a\")\n",
    "</code>\n",
    "</pre>\n",
    "\n",
    "<bashcomm> ~$ git add -A</bashcomm>\n",
    "\n",
    "<bashcomm> ~$ git commit --all -m README.md</bashcomm>\n",
    "\n",
    "<pre>\n",
    "<code>\n",
    "    [master a8d3f7f] README.md\n",
    "    1 file changed, 1 insertion(+)\n",
    "</code>\n",
    "</pre>\n",
    "\n",
    "<bashcomm> ~$ git push -u origin master</bashcomm>\n",
    "\n",
    "<pre>\n",
    "<code>\n",
    "    Enumerating objects: 5, done.\n",
    "    Object counting in progress: 100% (5/5), done.\n",
    "    Objects writing: 100% (3/3), 272 bytes | 272.00 KiB/s, done.\n",
    "    3 total objects (0 delta), 0 reused (0 delta), 0 reused in pack file\n",
    "    To https://github.com/.../MedicalImageProcessingAndNavigation.git\n",
    "    5cb79da..a8d3f7f  master -> master\n",
    "    branch 'master' set up to track 'origin/master'.\n",
    "</code>\n",
    "</pre>"
   ]
  },
  {
   "cell_type": "markdown",
   "metadata": {},
   "source": [
    "After updating the GitHub repository page, this is the result!\n",
    "\n",
    "<center> <img src=\"./assets/GitLecture/check_first_commit.png\"/>"
   ]
  },
  {
   "cell_type": "markdown",
   "metadata": {},
   "source": [
    "<style>\n",
    "body {\n",
    "            font-family: 'Courier New', monospace;\n",
    "    }\n",
    "\n",
    "pre {\n",
    "            background-color: black;\n",
    "            padding: 10px;\n",
    "            border-radius: 5px;\n",
    "            overflow-x: auto;\n",
    "    }\n",
    "\n",
    "code {\n",
    "            color: lime;\n",
    "            background-color: black;\n",
    "            padding: 2px 4px;\n",
    "            border-radius: 3px;\n",
    "    }\n",
    "\n",
    "bashcomm {\n",
    "            color: aqua;\n",
    "            background-color: black;\n",
    "            padding: 2px 4px;\n",
    "            border-radius: 3px;\n",
    "    }\n",
    "</style>\n",
    "\n",
    "# Reset vs. Revert: how to restore the repository state to a given commit\n",
    "\n",
    "`git reset` is **one of the most powerful and flexible commands in Git**,. It's **mainly used to undo changes in the repository**. What makes git reset complex is its **interaction with three distinct areas** of the Git repository:\n",
    "\n",
    "1. HEAD (current branch pointer): Indicates the most recent commit in the current branch. **Locally significant**.\n",
    "2. Index (staging area): Where files are \"prepared\" for the next commit.\n",
    "3. Working Directory: The local filesystem, which contains the project files.\n",
    "\n",
    "There are three main modes of git reset depending on the options used:\n",
    "\n",
    "***--soft***: Edit HEAD only.\n",
    "\n",
    "***--mixed*** (default): Changes HEAD and index (staging area).\n",
    "\n",
    "***--hard***: Modify HEAD, index and working directory.\n",
    "\n",
    "Let's see some example:\n",
    "\n",
    "<bashcomm> ~$ git reset --hard < commit-hash > </bashcomm>, in this particular case we know the hash of the commit, but we can move also the HEAD!\n",
    "\n",
    "<bashcomm> ~$ git reset --hard HEAD~1 </bashcomm>,  by typing \"HEAD~1\", we are telling Git to go back to the commit before the current HEAD revision — **which should be the commit before the merge**!\n",
    "<center><img src=\"https://i.sstatic.net/4Bdtm.png\"></center>\n",
    "\n",
    "In both cases, we are using the \"--hard\" option. This means that any local changes in your Working Copy will be discarded.\n",
    "\n",
    "In this case, to update the remote repository we need to force the push!\n",
    "\n",
    "<bashcomm> ~$ git push -u origin < branch > --force </bashcomm> \n",
    "\n",
    "<br>\n",
    "\n",
    "<br>\n",
    "\n",
    "\n",
    "\n",
    "`git revert` should be used **if you have already pushed to the remote repository**. This command **does not delete the history**; instead, it **creates a new commit that reverts the changes.** This is in contrast to git reset, where we effectively \"remove\" a commit from the history. This is also the reason why git revert is a better solution in cases where you've already pushed to a remote.\n",
    "\n",
    "\n",
    "\n",
    "<bashcomm>git revert -m \"Revert unwanted commit\" < merge-commit-hash ></bashcomm>\n",
    "\n",
    "<bashcomm>git revert -m \"Revert unwanted commit\" HEAD</bashcomm>\n",
    "\n",
    "<bashcomm>git revert -m \"Revert unwanted commits\" HEAD~2..HEAD</bashcomm>\n",
    "\n",
    "\n"
   ]
  },
  {
   "cell_type": "markdown",
   "metadata": {},
   "source": [
    "# Branches"
   ]
  },
  {
   "cell_type": "markdown",
   "metadata": {},
   "source": [
    "<center> <img src=\"https://www.nobledesktop.com/image/gitresources/git-branches-merge.png\" />"
   ]
  },
  {
   "cell_type": "markdown",
   "metadata": {},
   "source": [
    "When you want to add a new feature or fix a bug, no matter how big or how small, **you must create a new branch to encapsulate your changes**. \n",
    "\n",
    "This makes it harder for unstable code to get merged into the main code base, and it gives you the chance to clean up your future's history before merging it into the main branch.\n",
    "\n",
    "**A branch represents an independent line of development**. Branches serve as an abstraction for the edit/stage/commit process. You can think of them as a way to request a brand new working directory, staging area, and project history. New commits are recorded in the history for the current branch, which results in a fork in the history of the project.\n",
    "\n",
    "It's important to understand that **branches are just pointers to commits**. When you create a branch, all Git needs to do is create a new pointer, it doesn’t change the repository in any other way. \n",
    "\n",
    "Once you’ve finished working on a branch and have merged it into the main code base, you’re free to delete the branch without losing any history.\n",
    "\n",
    "[Reference](https://www.atlassian.com/git/tutorials/using-branches)"
   ]
  },
  {
   "cell_type": "markdown",
   "metadata": {},
   "source": [
    "## Manage branches from the command line"
   ]
  },
  {
   "cell_type": "markdown",
   "metadata": {},
   "source": [
    "***Local branches***\n",
    "- **View branches**: `git branch`\n",
    "- **Create a branch**: `git branch branch_name`\n",
    "- **Move between the branches**: \n",
    "    \n",
    "    `git checkout branch_name` or `git switch branch_name`\n",
    "- **Create the branch and move to it**: \n",
    "    \n",
    "    `git checkout -b branch_name` or `git switch -c branch_name`\n",
    "\n",
    "***Remote branches***\n",
    "- **Download remote branches**: `git fetch`\n",
    "- **Share local branches remotely**: `git push origin branch_name`"
   ]
  },
  {
   "cell_type": "markdown",
   "metadata": {},
   "source": [
    "## Let's create a branch to introduce a new feature into the project"
   ]
  },
  {
   "cell_type": "markdown",
   "metadata": {},
   "source": [
    "<style>\n",
    "body {\n",
    "            font-family: 'Courier New', monospace;\n",
    "    }\n",
    "\n",
    "pre {\n",
    "            background-color: black;\n",
    "            padding: 10px;\n",
    "            border-radius: 5px;\n",
    "            overflow-x: auto;\n",
    "    }\n",
    "\n",
    "code {\n",
    "            color: lime;\n",
    "            background-color: black;\n",
    "            padding: 2px 4px;\n",
    "            border-radius: 3px;\n",
    "    }\n",
    "\n",
    "bashcomm {\n",
    "            color: aqua;\n",
    "            background-color: black;\n",
    "            padding: 2px 4px;\n",
    "            border-radius: 3px;\n",
    "    }\n",
    "</style>\n",
    "\n",
    "\n",
    "<bashcomm>~$ git branch feature/newAwesomeFeature </bashcomm>\n",
    "\n",
    "<bashcomm>~$ git branch </bashcomm>\n",
    "<pre>\n",
    "    <code>\n",
    "     feature/newAwesomeFeature\n",
    "     *master\n",
    "    </code>\n",
    "</pre>\n",
    "\n",
    "<bashcomm>~$ git switch feature/newAwesomeFeature</bashcomm>\n",
    "\n",
    "<bashcomm>~$ touch new_feature.py </bashcomm> (so we added something in the new local branch, which is not there in the starting branch)\n",
    "\n",
    "<bashcomm>~$ git add .  </bashcomm> (in this case we add all the modified files)\n",
    "\n",
    "<bashcomm>~$ git commit -m \"Added feature new_feature.py\" </bashcomm>\n",
    "<pre>\n",
    "    <code>\n",
    "    [feature/newAwesomeFeature 837cc0d] Added feature new_feature.py\n",
    "    1 file changed, 0 insertions(+), 0 deletions(-)\n",
    "    create mode 100644 new_feature.py\n",
    "    </code>\n",
    "</pre>\n",
    "\n",
    "\n",
    "<bashcomm>~$ git push -u origin feature/newAwesomeFeature </bashcomm>\n",
    "<pre>\n",
    "    <code>\n",
    "    Enumerating objects: 4, done.\n",
    "    Object counting in progress: 100% (4/4), done.\n",
    "    Delta compression in progress, using up to 20 threads\n",
    "    Compressing objects: 100% (2/2), done.\n",
    "    Writing objects: 100% (3/3), 296 bytes | 296.00 KiB/s, done.\n",
    "    3 total objects (0 delta), 0 reused (0 delta), 0 reused in pack file\n",
    "    To https://github.com/.../MedicalImageProcessingAndNavigation.git\n",
    "    a8d3f7f..837cc0d  feature/newAwesomeFeature -> feature/newAwesomeFeature\n",
    "    branch 'feature/newAwesomeFeature' set up to track 'origin/feature/newAwesomeFeature'. \n",
    "    </code>\n",
    "</pre>\n"
   ]
  },
  {
   "cell_type": "markdown",
   "metadata": {},
   "source": [
    "Let's also check the remote repository from GitHub:\n",
    "<center> <img src=\"./assets/GitLecture/branch_update.png\" />"
   ]
  },
  {
   "cell_type": "markdown",
   "metadata": {},
   "source": [
    "## Merge changes to the main branch"
   ]
  },
  {
   "cell_type": "markdown",
   "metadata": {},
   "source": [
    "**Let's make sure we have the repository on which we are going to perform the merge updated with a git pull**:\n",
    "\n",
    "<style>\n",
    "body {\n",
    "            font-family: 'Courier New', monospace;\n",
    "    }\n",
    "\n",
    "pre {\n",
    "            background-color: black;\n",
    "            padding: 10px;\n",
    "            border-radius: 5px;\n",
    "            overflow-x: auto;\n",
    "    }\n",
    "\n",
    "code {\n",
    "            color: lime;\n",
    "            background-color: black;\n",
    "            padding: 2px 4px;\n",
    "            border-radius: 3px;\n",
    "    }\n",
    "\n",
    "bashcomm {\n",
    "            color: aqua;\n",
    "            background-color: black;\n",
    "            padding: 2px 4px;\n",
    "            border-radius: 3px;\n",
    "    }\n",
    "</style>\n",
    "\n",
    "\n",
    "<bashcomm>~$ git switch master</bashcomm>\n",
    "\n",
    "<pre>\n",
    "    <code>\n",
    "    Switched to 'master' branch\n",
    "    Your branch is updated compared to 'origin/master'.\n",
    "    </code>\n",
    "</pre>\n",
    "\n",
    "\n",
    "<bashcomm>~$ git pull<bashcomm>\n",
    "<pre>\n",
    "    <code>\n",
    "    Updated\n",
    "    </code>\n",
    "</pre>\n",
    "\n",
    "<bashcomm>~$ git merge feature/newAwesomeFeature</bashcomm>\n",
    "<pre>\n",
    "    <code>\n",
    "    Updating a8d3f7f..837cc0d\n",
    "\n",
    "    Fast-forward\n",
    "\n",
    "    new_feature.py | 0\n",
    "\n",
    "    1 file changed, 0 insertions(+), 0 deletions(-)\n",
    " \n",
    "    create mode 100644 new_feature.py\n",
    "    </code>\n",
    "</pre>\n",
    "\n",
    "Now that we have merged the two branches locally and brought the changes from the feature branch to the main one, let's update the master branch remotely\n",
    "\n",
    "<bashcomm>~$ git push origin master</bashcomm>"
   ]
  },
  {
   "cell_type": "markdown",
   "metadata": {},
   "source": [
    "And now let's check that the master branch actually contains the new change\n",
    "\n",
    "<center><img src=\"./assets/GitLecture/merge_feature.png\" />"
   ]
  },
  {
   "cell_type": "markdown",
   "metadata": {},
   "source": [
    "## Merge vs. Rebase: keep the history clean!\n",
    "Interactive rebasing gives you complete control over what your project history looks like. This affords a lot of freedom to developers, as it lets them commit a \"messy\" history while they're focused on writing code, then go back and clean it up after the fact.\n",
    "\n",
    "\n",
    "<center><img src=\"https://miro.medium.com/v2/resize:fit:868/1*g48HJkKNsZwNlWEM6Z82ig.jpeg\" width=\"800\" height=\"500\">  <img src=\"https://phoenixnap.com/kb/wp-content/uploads/2023/03/git-rebase-example.png\" width=\"800\" height=\"500\"></center>\n",
    "\n",
    "This gives developers the opportunity to squash insignificant commits, delete obsolete ones, and make sure everything else is in order before committing to the “official” project history. To everybody else, it will look like the entire feature was developed in a single series of well-planned commits."
   ]
  },
  {
   "cell_type": "markdown",
   "metadata": {},
   "source": [
    "Rebase example: \n",
    "<style>\n",
    "body {\n",
    "            font-family: 'Courier New', monospace;\n",
    "    }\n",
    "\n",
    "pre {\n",
    "            background-color: black;\n",
    "            padding: 10px;\n",
    "            border-radius: 5px;\n",
    "            overflow-x: auto;\n",
    "    }\n",
    "\n",
    "code {\n",
    "            color: lime;\n",
    "            background-color: black;\n",
    "            padding: 2px 4px;\n",
    "            border-radius: 3px;\n",
    "    }\n",
    "\n",
    "bashcomm {\n",
    "            color: aqua;\n",
    "            background-color: black;\n",
    "            padding: 2px 4px;\n",
    "            border-radius: 3px;\n",
    "    }\n",
    "</style>\n",
    "\n",
    "\n",
    "<bashcomm>~$ git rebase --onto < newbase > < oldbase ></bashcomm>\n",
    "\n",
    "The rebase can also be done on multiple branches, for example:\n",
    "\n",
    "<bashcomm>~$ git rebase --onto master featureA featureB featureC</bashcomm>\n"
   ]
  },
  {
   "cell_type": "markdown",
   "metadata": {},
   "source": [
    "# Exercises 📖 \n",
    "\n",
    "Using this [Git sandbox](https://learngitbranching.js.org/?NODEMO=&locale=en_US) solve the following exercises:\n",
    "\n",
    "- **Exercise 1**: Creating different branches (develop, featureA, featureC) and commits on different branches\n",
    "\n",
    "    Objective:\n",
    "    <center><img src=\"./assets/GitLecture/exercise1.png\"></center>\n",
    "\n",
    "\n",
    "- **Exercise 2**: Merge features branches into develop and the develop branch into main\n",
    "\n",
    "    Objective:\n",
    "    <center><img src=\"./assets/GitLecture/exercise2.png\"></center>\n",
    "\n",
    "\n",
    "- **Exercise 3**: What happened? Try to replicate it\n",
    "\n",
    "    Objective:\n",
    "    <center><img src=\"./assets/GitLecture/exercise3.png\"></center>\n",
    "\n",
    "\n",
    "- **Exercise 4**: Release all the features in the main branch with a merge\n",
    "\n",
    "    Objective:\n",
    "    <center><img src=\"./assets/GitLecture/exercise4.png\"></center>"
   ]
  },
  {
   "cell_type": "markdown",
   "metadata": {},
   "source": [
    "Exercise 1\n",
    "\n",
    "git commit\n",
    "git commit\n",
    "git branch featureA\n",
    "git switch featureA\n",
    "git commit\n",
    "git switch main\n",
    "git branch featureB\n",
    "git switch featureB\n",
    "git commit\n",
    "git commit\n",
    "git commit\n",
    "git switch featureA\n",
    "git commit\n",
    "git switch main\n",
    "git branch development\n",
    "git switch developme\n",
    "git commit\n",
    "\n",
    "\n",
    "Exercise 2\n",
    "\n",
    "git commit\n",
    "git commit\n",
    "git branch featureA\n",
    "git switch featureA\n",
    "git commit\n",
    "git switch main\n",
    "git branch featureB\n",
    "git switch featureB\n",
    "git commit\n",
    "git commit\n",
    "git commit\n",
    "git switch featureA\n",
    "git commit\n",
    "git switch main\n",
    "git branch development\n",
    "git switch developme\n",
    "git commit\n",
    "git switch main\n",
    "git checkout C1\n",
    "git switch developme\n",
    "git merge featureA\n",
    "git merge featureB\n",
    "git merge main\n",
    "\n",
    "Branch already up-to-date\n",
    "\n",
    "Exercise 3\n",
    "\n",
    "I couldn't finde a solution for Exercise 3&4\n",
    "\n",
    "\n",
    "\n"
   ]
  }
 ],
 "metadata": {
  "kernelspec": {
   "display_name": "venv",
   "language": "python",
   "name": "python3"
  },
  "language_info": {
   "name": "python",
   "version": "3.12.7"
  }
 },
 "nbformat": 4,
 "nbformat_minor": 2
}
